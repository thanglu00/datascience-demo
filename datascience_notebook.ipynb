{
  "nbformat": 4,
  "nbformat_minor": 0,
  "metadata": {
    "colab": {
      "provenance": [],
      "toc_visible": true,
      "authorship_tag": "ABX9TyPr+RwdfpNVu7OpuKoPAxjS",
      "include_colab_link": true
    },
    "kernelspec": {
      "name": "python3",
      "display_name": "Python 3"
    },
    "language_info": {
      "name": "python"
    }
  },
  "cells": [
    {
      "cell_type": "markdown",
      "metadata": {
        "id": "view-in-github",
        "colab_type": "text"
      },
      "source": [
        "<a href=\"https://colab.research.google.com/github/thanglu00/datascience-demo/blob/main/datascience_notebook.ipynb\" target=\"_parent\"><img src=\"https://colab.research.google.com/assets/colab-badge.svg\" alt=\"Open In Colab\"/></a>"
      ]
    },
    {
      "cell_type": "code",
      "execution_count": 1,
      "metadata": {
        "id": "c2B2b0xkrheC"
      },
      "outputs": [],
      "source": [
        "## ingest"
      ]
    },
    {
      "cell_type": "markdown",
      "source": [
        "## ingest"
      ],
      "metadata": {
        "id": "FpWhXAMGr6QA"
      }
    },
    {
      "cell_type": "code",
      "source": [],
      "metadata": {
        "id": "WcI37RSPrrfq"
      },
      "execution_count": 1,
      "outputs": []
    },
    {
      "cell_type": "markdown",
      "source": [
        "##EDA"
      ],
      "metadata": {
        "id": "4MbdwO5FrvvD"
      }
    },
    {
      "cell_type": "code",
      "source": [],
      "metadata": {
        "id": "9DJSTzyKrxW0"
      },
      "execution_count": null,
      "outputs": []
    },
    {
      "cell_type": "markdown",
      "source": [
        "##modeling"
      ],
      "metadata": {
        "id": "D3lgJRoArx9a"
      }
    },
    {
      "cell_type": "code",
      "source": [],
      "metadata": {
        "id": "-3FWJGB3rz-3"
      },
      "execution_count": null,
      "outputs": []
    },
    {
      "cell_type": "markdown",
      "source": [
        "### algrorithm 1"
      ],
      "metadata": {
        "id": "0PsR6wPCsMoy"
      }
    },
    {
      "cell_type": "code",
      "source": [],
      "metadata": {
        "id": "HTGZpyzKr0eI"
      },
      "execution_count": null,
      "outputs": []
    },
    {
      "cell_type": "markdown",
      "source": [
        "## conclusion\n"
      ],
      "metadata": {
        "id": "KzJ4xli2r0pg"
      }
    },
    {
      "cell_type": "code",
      "source": [],
      "metadata": {
        "id": "4o8HfHCYr3_W"
      },
      "execution_count": null,
      "outputs": []
    }
  ]
}